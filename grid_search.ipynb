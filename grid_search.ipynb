{
 "cells": [
  {
   "cell_type": "markdown",
   "id": "84f51915",
   "metadata": {},
   "source": [
    "# Name: Akshaiy Ramlinkam Jayakumar Srilatha\n",
    "# NET ID: AXJ210002\n",
    "# Course: CS 6364 Artificial Intelligence\n",
    "# Homework 4"
   ]
  },
  {
   "cell_type": "markdown",
   "id": "01bb6118",
   "metadata": {},
   "source": [
    "<br>"
   ]
  },
  {
   "cell_type": "markdown",
   "id": "9bbba4ae",
   "metadata": {},
   "source": [
    "<br>"
   ]
  },
  {
   "cell_type": "markdown",
   "id": "c7bcca38",
   "metadata": {},
   "source": [
    "## 1. GRID PREPARATION"
   ]
  },
  {
   "cell_type": "markdown",
   "id": "52795ab6",
   "metadata": {},
   "source": [
    "### L = land, W = water, C = cliff"
   ]
  },
  {
   "cell_type": "code",
   "execution_count": 1,
   "id": "6d953486",
   "metadata": {},
   "outputs": [
    {
     "data": {
      "text/plain": [
       "[['L', 'L', 'L', 'L', 'L', 'L', 'L', 'L', 'L', 'L'],\n",
       " ['L', 'L', 'L', 'L', 'L', 'L', 'L', 'L', 'L', 'L'],\n",
       " ['L', 'W', 'W', 'W', 'L', 'W', 'W', 'W', 'L', 'L'],\n",
       " ['L', 'W', 'W', 'W', 'L', 'W', 'W', 'W', 'L', 'L'],\n",
       " ['L', 'W', 'W', 'W', 'L', 'W', 'W', 'W', 'L', 'L'],\n",
       " ['L', 'C', 'C', 'C', 'C', 'C', 'C', 'C', 'C', 'L']]"
      ]
     },
     "execution_count": 1,
     "metadata": {},
     "output_type": "execute_result"
    }
   ],
   "source": [
    "num_rows, num_cols = 6,10\n",
    "grid = [[\"L\" for i in range(num_cols)] for j in range(num_rows)]\n",
    "\n",
    "for i in range(2,5):\n",
    "    for j in range(1,4):\n",
    "        grid[i][j] = \"W\"\n",
    "\n",
    "for i in range(2,5):\n",
    "    for j in range(5,8):\n",
    "        grid[i][j] = \"W\"\n",
    "\n",
    "for j in range(1,9):\n",
    "    grid[5][j] = \"C\"\n",
    "        \n",
    "grid"
   ]
  },
  {
   "cell_type": "code",
   "execution_count": 2,
   "id": "375b6a42",
   "metadata": {},
   "outputs": [],
   "source": [
    "costs = {\"L\":1, \"W\":5, \"C\":10}"
   ]
  },
  {
   "cell_type": "markdown",
   "id": "f237a165",
   "metadata": {},
   "source": [
    "<br>"
   ]
  },
  {
   "cell_type": "markdown",
   "id": "0a8d8351",
   "metadata": {},
   "source": [
    "<br>"
   ]
  },
  {
   "cell_type": "markdown",
   "id": "07c5b974",
   "metadata": {},
   "source": [
    "## 2. DFS (order = top > right > bottom > left)"
   ]
  },
  {
   "cell_type": "code",
   "execution_count": 34,
   "id": "9ef6918d",
   "metadata": {},
   "outputs": [],
   "source": [
    "vals = []\n",
    "visited = set()\n",
    "path = []\n",
    "\n",
    "def dfs(path,visited,i,j,cost):\n",
    "    visited.add((i,j))\n",
    "    path.append((i,j))\n",
    "    \n",
    "    if i == num_rows-1 and j == num_cols-1:\n",
    "        vals.append(cost)\n",
    "    else:    \n",
    "        if (i-1,j) not in visited and 0<=i-1<=num_rows-1 and 0<=j<=num_cols-1:\n",
    "            dfs(path,visited,i-1,j,cost+costs[grid[i][j]])\n",
    "        elif (i,j+1) not in visited and 0<=i<=num_rows-1 and 0<=j+1<=num_cols-1:\n",
    "            dfs(path,visited,i,j+1,cost+costs[grid[i][j]])\n",
    "        elif (i+1,j) not in visited and 0<=i+1<=num_rows-1 and 0<=j<=num_cols-1:\n",
    "            dfs(path,visited,i+1,j,cost+costs[grid[i][j]])\n",
    "        elif (i,j-1) not in visited and 0<=i<=num_rows-1 and 0<=j-1<=num_cols-1:\n",
    "            dfs(path,visited,i,j-1,cost+costs[grid[i][j]])\n",
    "        \n",
    "        "
   ]
  },
  {
   "cell_type": "code",
   "execution_count": 35,
   "id": "52980654",
   "metadata": {},
   "outputs": [
    {
     "name": "stdout",
     "output_type": "stream",
     "text": [
      "\n",
      "Nodes visited by DFS:\n",
      "[(5, 0), (4, 0), (3, 0), (2, 0), (1, 0), (0, 0), (0, 1), (0, 2), (0, 3), (0, 4), (0, 5), (0, 6), (0, 7), (0, 8), (0, 9), (1, 9), (2, 9), (3, 9), (4, 9), (5, 9)]\n",
      "\n",
      "\n",
      "Cost of DFS:\n",
      "19\n"
     ]
    }
   ],
   "source": [
    "dfs(path,visited,5,0,0)\n",
    "print(\"\\nNodes visited by DFS:\\n\" + str(path))\n",
    "print(\"\\n\")\n",
    "print(\"Cost of DFS:\\n\" + str(vals[0]))"
   ]
  },
  {
   "cell_type": "markdown",
   "id": "68d9840c",
   "metadata": {},
   "source": [
    "### DFS visited nodes visualization (denoted by 5)"
   ]
  },
  {
   "cell_type": "code",
   "execution_count": 36,
   "id": "1d83f296",
   "metadata": {},
   "outputs": [
    {
     "data": {
      "text/plain": [
       "[[5, 5, 5, 5, 5, 5, 5, 5, 5, 5],\n",
       " [5, 0, 0, 0, 0, 0, 0, 0, 0, 5],\n",
       " [5, 0, 0, 0, 0, 0, 0, 0, 0, 5],\n",
       " [5, 0, 0, 0, 0, 0, 0, 0, 0, 5],\n",
       " [5, 0, 0, 0, 0, 0, 0, 0, 0, 5],\n",
       " [5, 0, 0, 0, 0, 0, 0, 0, 0, 5]]"
      ]
     },
     "execution_count": 36,
     "metadata": {},
     "output_type": "execute_result"
    }
   ],
   "source": [
    "num_rows, num_cols = 6,10\n",
    "viz = [[0 for i in range(num_cols)] for j in range(num_rows)]\n",
    "\n",
    "for i,j in path:\n",
    "    viz[i][j] = 5\n",
    "viz   "
   ]
  },
  {
   "cell_type": "markdown",
   "id": "5ee51611",
   "metadata": {},
   "source": [
    "<br>"
   ]
  },
  {
   "cell_type": "markdown",
   "id": "40a7b085",
   "metadata": {},
   "source": [
    "<br>"
   ]
  },
  {
   "cell_type": "markdown",
   "id": "7e02db42",
   "metadata": {},
   "source": [
    "## 3. BFS (Queue insertion order - top, right, bottom, left)"
   ]
  },
  {
   "cell_type": "code",
   "execution_count": 116,
   "id": "fff9d0bc",
   "metadata": {},
   "outputs": [],
   "source": [
    "import collections \n",
    "\n",
    "visited = set()\n",
    "path = []\n",
    "queue = collections.deque()\n",
    "\n",
    "def bfs(path,visited,i,j):\n",
    "    visited.add((i,j))\n",
    "    path.append((i,j))\n",
    "    if not (i == 5 and j == 9):\n",
    "        if (i-1,j) not in visited and 0<=i-1<=num_rows-1 and 0<=j<=num_cols-1 and costs[grid[i-1][j]]!=10:\n",
    "            queue.append((i-1,j,costs[grid[i-1][j]]))\n",
    "        if (i,j+1) not in visited and 0<=i<=num_rows-1 and 0<=j+1<=num_cols-1 and costs[grid[i][j+1]]!=10:\n",
    "            queue.append((i,j+1,costs[grid[i][j+1]]))\n",
    "        if (i+1,j) not in visited and 0<=i+1<=num_rows-1 and 0<=j<=num_cols-1 and costs[grid[i+1][j]]!=10:\n",
    "            queue.append((i+1,j,costs[grid[i+1][j]]))\n",
    "        if (i,j-1) not in visited and 0<=i<=num_rows-1 and 0<=j-1<=num_cols-1 and costs[grid[i][j-1]]!=10:\n",
    "            queue.append((i,j-1,costs[grid[i][j-1]]))\n",
    "\n",
    "        while queue:\n",
    "            a = queue.popleft()\n",
    "            visited.add((a[0],a[1]))\n",
    "            path.append((a[0],a[1]))\n",
    "            if (a[0] == 5 and a[1] == 9):\n",
    "                return a[2]\n",
    "            \n",
    "            else:\n",
    "                if (a[0]-1,a[1]) not in visited and 0<=a[0]-1<=num_rows-1 and 0<=a[1]<=num_cols-1 and costs[grid[a[0]-1][a[1]]]!=10:\n",
    "                    queue.append((a[0]-1,a[1],a[2]+costs[grid[a[0]-1][a[1]]]))\n",
    "                    visited.add((a[0]-1,a[1]))\n",
    "                if (a[0],a[1]+1) not in visited and 0<=a[0]<=num_rows-1 and 0<=a[1]+1<=num_cols-1 and costs[grid[a[0]][a[1]+1]]!=10:\n",
    "                    queue.append((a[0],a[1]+1,a[2]+costs[grid[a[0]][a[1]+1]]))\n",
    "                    visited.add((a[0],a[1]+1))\n",
    "                if (a[0]+1,a[1]) not in visited and 0<=a[0]+1<=num_rows-1 and 0<=a[1]<=num_cols-1 and costs[grid[a[0]+1][a[1]]]!=10:\n",
    "                    queue.append((a[0]+1,a[1],a[2]+costs[grid[a[0]+1][a[1]]]))\n",
    "                    visited.add((a[0]+1,a[1]))\n",
    "                if (a[0],a[1]-1) not in visited and 0<=a[0]<=num_rows-1 and 0<=a[1]-1<=num_cols-1 and costs[grid[a[0]][a[1]-1]]!=10:\n",
    "                    queue.append((a[0],a[1]-1,a[2]+costs[grid[a[0]-1][a[1]]]))\n",
    "                    visited.add((a[0],a[1]-1))\n",
    "                    "
   ]
  },
  {
   "cell_type": "code",
   "execution_count": 117,
   "id": "7a013bd7",
   "metadata": {},
   "outputs": [
    {
     "name": "stdout",
     "output_type": "stream",
     "text": [
      "\n",
      "Nodes visited by BFS:\n",
      "[(5, 0), (4, 0), (3, 0), (4, 1), (2, 0), (3, 1), (4, 2), (1, 0), (2, 1), (3, 2), (4, 3), (0, 0), (1, 1), (2, 2), (3, 3), (4, 4), (0, 1), (1, 2), (2, 3), (3, 4), (4, 5), (0, 2), (1, 3), (2, 4), (3, 5), (4, 6), (0, 3), (1, 4), (2, 5), (3, 6), (4, 7), (0, 4), (1, 5), (2, 6), (3, 7), (4, 8), (0, 5), (1, 6), (2, 7), (3, 8), (4, 9), (0, 6), (1, 7), (2, 8), (3, 9), (5, 9)]\n",
      "\n",
      "\n",
      "Cost of BFS returned path:\n",
      "35\n",
      "\n",
      "\n",
      "Cost of BFS exploration:\n",
      "117\n"
     ]
    }
   ],
   "source": [
    "expl_cost = 0\n",
    "cost = bfs(path,visited,5,0)\n",
    "\n",
    "print(\"\\nNodes visited by BFS:\\n\" + str(path))\n",
    "print(\"\\n\")\n",
    "print(\"Cost of BFS returned path:\\n\" + str(cost))\n",
    "for ele in path[1:]:\n",
    "    expl_cost += costs[grid[ele[0]][ele[1]]]\n",
    "print(\"\\n\")\n",
    "print(\"Cost of BFS exploration:\\n\" + str(expl_cost))"
   ]
  },
  {
   "cell_type": "markdown",
   "id": "d56d10ad",
   "metadata": {},
   "source": [
    "### BFS visited nodes visualization (denoted by 5)"
   ]
  },
  {
   "cell_type": "code",
   "execution_count": 113,
   "id": "0dd74332",
   "metadata": {},
   "outputs": [
    {
     "data": {
      "text/plain": [
       "[[5, 5, 5, 5, 5, 5, 5, 0, 0, 0],\n",
       " [5, 5, 5, 5, 5, 5, 5, 5, 0, 0],\n",
       " [5, 5, 5, 5, 5, 5, 5, 5, 5, 0],\n",
       " [5, 5, 5, 5, 5, 5, 5, 5, 5, 5],\n",
       " [5, 5, 5, 5, 5, 5, 5, 5, 5, 5],\n",
       " [5, 0, 0, 0, 0, 0, 0, 0, 0, 5]]"
      ]
     },
     "execution_count": 113,
     "metadata": {},
     "output_type": "execute_result"
    }
   ],
   "source": [
    "num_rows, num_cols = 6,10\n",
    "viz = [[0 for i in range(num_cols)] for j in range(num_rows)]\n",
    "\n",
    "for i,j in path:\n",
    "    viz[i][j] = 5\n",
    "viz   "
   ]
  },
  {
   "cell_type": "markdown",
   "id": "70aeb8e9",
   "metadata": {},
   "source": [
    "<br>"
   ]
  },
  {
   "cell_type": "markdown",
   "id": "d1640dc5",
   "metadata": {},
   "source": [
    "<br>"
   ]
  },
  {
   "cell_type": "markdown",
   "id": "2682e548",
   "metadata": {},
   "source": [
    "## 4. UCS"
   ]
  },
  {
   "cell_type": "code",
   "execution_count": 109,
   "id": "c5670e02",
   "metadata": {},
   "outputs": [],
   "source": [
    "import heapq\n",
    "\n",
    "visited = set()\n",
    "path = []\n",
    "queue = []\n",
    "heapq.heapify(queue)\n",
    "\n",
    "def ucs(path,visited,i,j,cost):\n",
    "    visited.add((i,j))\n",
    "    path.append((i,j))\n",
    "    if not (i == 5 and j == 9):\n",
    "        if (i-1,j) not in visited and 0<=i-1<=num_rows-1 and 0<=j<=num_cols-1 and costs[grid[i-1][j]]!=10:\n",
    "            heapq.heappush(queue,(cost+costs[grid[i-1][j]],i-1,j))\n",
    "        if (i,j+1) not in visited and 0<=i<=num_rows-1 and 0<=j+1<=num_cols-1 and costs[grid[i][j+1]]!=10:\n",
    "            heapq.heappush(queue,(cost+costs[grid[i][j+1]],i,j+1))\n",
    "        if (i+1,j) not in visited and 0<=i+1<=num_rows-1 and 0<=j<=num_cols-1 and costs[grid[i+1][j]]!=10:\n",
    "            heapq.heappush(queue,(cost+costs[grid[i+1][j]],i+1,j))\n",
    "        if (i,j-1) not in visited and 0<=i<=num_rows-1 and 0<=j-1<=num_cols-1 and costs[grid[i][j-1]]!=10:\n",
    "            heapq.heappush(queue,(cost+costs[grid[i][j-1]],i,j-1))\n",
    "\n",
    "        while queue:\n",
    "            a = heapq.heappop(queue)\n",
    "            visited.add((a[1],a[2]))\n",
    "            path.append((a[1],a[2]))\n",
    "            if (a[1] == 5 and a[2] == 9):\n",
    "                return a[0]\n",
    "            \n",
    "            else:\n",
    "                if (a[1]-1,a[2]) not in visited and 0<=a[1]-1<=num_rows-1 and 0<=a[2]<=num_cols-1 and costs[grid[a[1]-1][a[2]]]!=10:\n",
    "                    heapq.heappush(queue,(a[0]+costs[grid[a[1]-1][a[2]]],a[1]-1,a[2]))\n",
    "                    visited.add((a[1]-1,a[2]))\n",
    "                if (a[1],a[2]+1) not in visited and 0<=a[1]<=num_rows-1 and 0<=a[2]+1<=num_cols-1 and costs[grid[a[1]][a[2]+1]]!=10:\n",
    "                    heapq.heappush(queue,(a[0]+costs[grid[a[1]][a[2]+1]],a[1],a[2]+1))\n",
    "                    visited.add((a[1],a[2]+1))\n",
    "                if (a[1]+1,a[2]) not in visited and 0<=a[1]+1<=num_rows-1 and 0<=a[2]<=num_cols-1 and costs[grid[a[1]+1][a[2]]]!=10:\n",
    "                    heapq.heappush(queue,(a[0]+costs[grid[a[1]+1][a[2]]],a[1]+1,a[2]))\n",
    "                    visited.add((a[1]+1,a[2]))\n",
    "                if (a[1],a[2]-1) not in visited and 0<=a[1]<=num_rows-1 and 0<=a[2]-1<=num_cols-1 and costs[grid[a[1]][a[2]-1]]!=10:\n",
    "                    heapq.heappush(queue,(a[0]+costs[grid[a[1]][a[2]-1]],a[1],a[2]-1))\n",
    "                    visited.add((a[1],a[2]-1))\n",
    "                    "
   ]
  },
  {
   "cell_type": "code",
   "execution_count": 110,
   "id": "7fe24878",
   "metadata": {},
   "outputs": [
    {
     "name": "stdout",
     "output_type": "stream",
     "text": [
      "\n",
      "Nodes visited by UCS:\n",
      "[(5, 0), (4, 0), (3, 0), (2, 0), (1, 0), (0, 0), (1, 1), (0, 1), (1, 2), (4, 1), (0, 2), (1, 3), (3, 1), (0, 3), (1, 4), (2, 1), (0, 4), (1, 5), (2, 4), (0, 5), (1, 6), (3, 4), (0, 6), (1, 7), (2, 2), (4, 2), (4, 4), (0, 7), (1, 8), (2, 3), (3, 2), (0, 8), (1, 9), (2, 8), (0, 9), (2, 5), (2, 9), (3, 8), (2, 6), (3, 3), (3, 5), (3, 9), (4, 8), (2, 7), (4, 3), (4, 5), (4, 9), (5, 9)]\n",
      "\n",
      "\n",
      "Cost of UCS returned path:\n",
      "17\n",
      "\n",
      "\n",
      "Cost of UCS exploration:\n",
      "103\n"
     ]
    }
   ],
   "source": [
    "cost = ucs(path,visited,5,0,0)\n",
    "print(\"\\nNodes visited by UCS:\\n\" + str(path))\n",
    "print(\"\\n\")\n",
    "print(\"Cost of UCS returned path:\\n\" + str(cost))\n",
    "print(\"\\n\")\n",
    "expl_cost = 0\n",
    "for ele in path[1:]:\n",
    "    expl_cost+=costs[grid[ele[0]][ele[1]]]\n",
    "print(\"Cost of UCS exploration:\\n\" + str(expl_cost))"
   ]
  },
  {
   "cell_type": "markdown",
   "id": "11804c65",
   "metadata": {},
   "source": [
    "### UCS visited nodes visualization (denoted by 5)"
   ]
  },
  {
   "cell_type": "code",
   "execution_count": 92,
   "id": "1e7d5cd0",
   "metadata": {},
   "outputs": [
    {
     "data": {
      "text/plain": [
       "[[5, 5, 5, 5, 5, 5, 5, 5, 5, 5],\n",
       " [5, 5, 5, 5, 5, 5, 5, 5, 5, 5],\n",
       " [5, 5, 5, 5, 5, 5, 5, 5, 5, 5],\n",
       " [5, 5, 5, 5, 5, 5, 0, 0, 5, 5],\n",
       " [5, 5, 5, 5, 5, 5, 0, 0, 5, 5],\n",
       " [5, 0, 0, 0, 0, 0, 0, 0, 0, 5]]"
      ]
     },
     "execution_count": 92,
     "metadata": {},
     "output_type": "execute_result"
    }
   ],
   "source": [
    "num_rows, num_cols = 6,10\n",
    "viz = [[0 for i in range(num_cols)] for j in range(num_rows)]\n",
    "\n",
    "for i,j in path:\n",
    "    viz[i][j] = 5\n",
    "viz   "
   ]
  },
  {
   "cell_type": "markdown",
   "id": "83806918",
   "metadata": {},
   "source": [
    "<br>"
   ]
  },
  {
   "cell_type": "markdown",
   "id": "59f84d99",
   "metadata": {},
   "source": [
    "<br>"
   ]
  },
  {
   "cell_type": "markdown",
   "id": "9e0d8bdb",
   "metadata": {},
   "source": [
    "## 5. Greedy Search"
   ]
  },
  {
   "cell_type": "code",
   "execution_count": 58,
   "id": "764a1b5a",
   "metadata": {},
   "outputs": [],
   "source": [
    "path = []\n",
    "\n",
    "def greedy(path,i,j,ig,jg):\n",
    "    path.append((i,j))\n",
    "    options = []\n",
    "    if not (i == 5 and j == 9):\n",
    "        if 0<=i-1<=num_rows-1 and 0<=j<=num_cols-1 and costs[grid[i-1][j]]!=10:\n",
    "            options.append((i-1,j))\n",
    "        if 0<=i<=num_rows-1 and 0<=j+1<=num_cols-1 and costs[grid[i][j+1]]!=10:\n",
    "            options.append((i,j+1))\n",
    "        if 0<=i+1<=num_rows-1 and 0<=j<=num_cols-1 and costs[grid[i+1][j]]!=10:\n",
    "            options.append((i+1,j))\n",
    "        if 0<=i<=num_rows-1 and 0<=j-1<=num_cols-1 and costs[grid[i][j-1]]!=10:\n",
    "            options.append((i,j-1))\n",
    "            \n",
    "        dist = 100\n",
    "\n",
    "        for ele in options:\n",
    "            trial = (jg-ele[1])+(ig-ele[0]) \n",
    "            if trial < dist:\n",
    "                dist = trial\n",
    "                decision = ele\n",
    "            \n",
    "        if (decision[0] == 5 and decision[1] == 9):\n",
    "            path.append(decision)\n",
    "            \n",
    "        else:\n",
    "            greedy(path,decision[0],decision[1],ig,jg)\n",
    "                    "
   ]
  },
  {
   "cell_type": "code",
   "execution_count": 59,
   "id": "3b0519c0",
   "metadata": {},
   "outputs": [
    {
     "name": "stdout",
     "output_type": "stream",
     "text": [
      "\n",
      "Nodes visited by Greedy search:\n",
      "[(5, 0), (4, 0), (4, 1), (4, 2), (4, 3), (4, 4), (4, 5), (4, 6), (4, 7), (4, 8), (4, 9), (5, 9)]\n",
      "\n",
      "\n",
      "Cost of Greedy search:\n",
      "35\n"
     ]
    }
   ],
   "source": [
    "cost = 0\n",
    "greedy(path,5,0,5,9)\n",
    "\n",
    "print(\"\\nNodes visited by Greedy search:\\n\" + str(path))\n",
    "for ele in path[1:]:\n",
    "    cost += costs[grid[ele[0]][ele[1]]]\n",
    "print(\"\\n\")\n",
    "print(\"Cost of Greedy search:\\n\" + str(cost))"
   ]
  },
  {
   "cell_type": "markdown",
   "id": "28ccc2da",
   "metadata": {},
   "source": [
    "### Greedy search visited nodes visualization (denoted by 5)"
   ]
  },
  {
   "cell_type": "code",
   "execution_count": 60,
   "id": "196d7740",
   "metadata": {},
   "outputs": [
    {
     "data": {
      "text/plain": [
       "[[0, 0, 0, 0, 0, 0, 0, 0, 0, 0],\n",
       " [0, 0, 0, 0, 0, 0, 0, 0, 0, 0],\n",
       " [0, 0, 0, 0, 0, 0, 0, 0, 0, 0],\n",
       " [0, 0, 0, 0, 0, 0, 0, 0, 0, 0],\n",
       " [5, 5, 5, 5, 5, 5, 5, 5, 5, 5],\n",
       " [5, 0, 0, 0, 0, 0, 0, 0, 0, 5]]"
      ]
     },
     "execution_count": 60,
     "metadata": {},
     "output_type": "execute_result"
    }
   ],
   "source": [
    "num_rows, num_cols = 6,10\n",
    "viz = [[0 for i in range(num_cols)] for j in range(num_rows)]\n",
    "\n",
    "for i,j in path:\n",
    "    viz[i][j] = 5\n",
    "viz   "
   ]
  },
  {
   "cell_type": "markdown",
   "id": "71b9d178",
   "metadata": {},
   "source": [
    "<br>"
   ]
  },
  {
   "cell_type": "markdown",
   "id": "df74cbf2",
   "metadata": {},
   "source": [
    "<br>"
   ]
  },
  {
   "cell_type": "markdown",
   "id": "41ad13f0",
   "metadata": {},
   "source": [
    "## 6. A* Search"
   ]
  },
  {
   "cell_type": "code",
   "execution_count": 106,
   "id": "5be5c41c",
   "metadata": {},
   "outputs": [],
   "source": [
    "import heapq\n",
    "\n",
    "visited = set()\n",
    "path = []\n",
    "queue = []\n",
    "heapq.heapify(queue)\n",
    "\n",
    "# Considering a naive heuristic function --> Manhattan distance\n",
    "def heuristic(x,y):\n",
    "    return ((5-x)+(9-y))\n",
    "\n",
    "def a_star(path,visited,i,j,cost):\n",
    "    visited.add((i,j))\n",
    "    path.append((i,j))\n",
    "    if not (i == 5 and j == 9):\n",
    "        if (i-1,j) not in visited and 0<=i-1<=num_rows-1 and 0<=j<=num_cols-1 and costs[grid[i-1][j]]!=10:\n",
    "            heapq.heappush(queue,(cost+costs[grid[i-1][j]]+heuristic(i-1,j),i-1,j))\n",
    "        if (i,j+1) not in visited and 0<=i<=num_rows-1 and 0<=j+1<=num_cols-1 and costs[grid[i][j+1]]!=10:\n",
    "            heapq.heappush(queue,(cost+costs[grid[i][j+1]]+heuristic(i,j+1),i,j+1))\n",
    "        if (i+1,j) not in visited and 0<=i+1<=num_rows-1 and 0<=j<=num_cols-1 and costs[grid[i+1][j]]!=10:\n",
    "            heapq.heappush(queue,(cost+costs[grid[i+1][j]]+heuristic(i+1,j),i+1,j))\n",
    "        if (i,j-1) not in visited and 0<=i<=num_rows-1 and 0<=j-1<=num_cols-1 and costs[grid[i][j-1]]!=10:\n",
    "            heapq.heappush(queue,(cost+costs[grid[i][j-1]]+heuristic(i,j-1),i,j-1))\n",
    "\n",
    "        while queue:\n",
    "            a = heapq.heappop(queue)\n",
    "            visited.add((a[1],a[2]))\n",
    "            path.append((a[1],a[2]))\n",
    "            if (a[1] == 5 and a[2] == 9):\n",
    "                return a[0]\n",
    "            \n",
    "            else:\n",
    "                if (a[1]-1,a[2]) not in visited and 0<=a[1]-1<=num_rows-1 and 0<=a[2]<=num_cols-1 and costs[grid[a[1]-1][a[2]]]!=10:\n",
    "                    heapq.heappush(queue,(a[0]-heuristic(a[1],a[2])+costs[grid[a[1]-1][a[2]]]+heuristic(a[1]-1,a[2]),a[1]-1,a[2]))\n",
    "                    visited.add((a[1]-1,a[2]))\n",
    "                if (a[1],a[2]+1) not in visited and 0<=a[1]<=num_rows-1 and 0<=a[2]+1<=num_cols-1 and costs[grid[a[1]][a[2]+1]]!=10:\n",
    "                    heapq.heappush(queue,(a[0]-heuristic(a[1],a[2])+costs[grid[a[1]][a[2]+1]]+heuristic(a[1],a[2]+1),a[1],a[2]+1))\n",
    "                    visited.add((a[1],a[2]+1))\n",
    "                if (a[1]+1,a[2]) not in visited and 0<=a[1]+1<=num_rows-1 and 0<=a[2]<=num_cols-1 and costs[grid[a[1]+1][a[2]]]!=10:\n",
    "                    heapq.heappush(queue,(a[0]-heuristic(a[1],a[2])+costs[grid[a[1]+1][a[2]]]+heuristic(a[1]+1,a[2]),a[1]+1,a[2]))\n",
    "                    visited.add((a[1]+1,a[2]))\n",
    "                if (a[1],a[2]-1) not in visited and 0<=a[1]<=num_rows-1 and 0<=a[2]-1<=num_cols-1 and costs[grid[a[1]][a[2]-1]]!=10:\n",
    "                    heapq.heappush(queue,(a[0]-heuristic(a[1],a[2])+costs[grid[a[1]][a[2]-1]]+heuristic(a[1],a[2]-1),a[1],a[2]-1))\n",
    "                    visited.add((a[1],a[2]-1))\n",
    "                    "
   ]
  },
  {
   "cell_type": "code",
   "execution_count": 107,
   "id": "cce20eb5",
   "metadata": {
    "scrolled": true
   },
   "outputs": [
    {
     "name": "stdout",
     "output_type": "stream",
     "text": [
      "\n",
      "Nodes visited by A* search:\n",
      "[(5, 0), (4, 0), (3, 0), (2, 0), (4, 1), (1, 0), (1, 1), (1, 2), (1, 3), (1, 4), (1, 5), (1, 6), (1, 7), (1, 8), (1, 9), (2, 4), (2, 8), (2, 9), (3, 1), (3, 4), (3, 8), (3, 9), (4, 4), (4, 8), (4, 9), (5, 9)]\n",
      "\n",
      "\n",
      "Cost of A* search returned path:\n",
      "17\n",
      "\n",
      "\n",
      "Cost of A* search exploration:\n",
      "33\n"
     ]
    }
   ],
   "source": [
    "expl_cost = 0\n",
    "cost = a_star(path,visited,5,0,0)\n",
    "\n",
    "print(\"\\nNodes visited by A* search:\\n\" + str(path))\n",
    "for ele in path[1:]:\n",
    "    expl_cost += costs[grid[ele[0]][ele[1]]]\n",
    "print(\"\\n\")\n",
    "print(\"Cost of A* search returned path:\\n\" + str(cost))\n",
    "print(\"\\n\")\n",
    "print(\"Cost of A* search exploration:\\n\" + str(expl_cost))"
   ]
  },
  {
   "cell_type": "markdown",
   "id": "1dea3383",
   "metadata": {},
   "source": [
    "### A* search visited nodes visualization (denoted by 5)"
   ]
  },
  {
   "cell_type": "code",
   "execution_count": 108,
   "id": "f9f5a5b0",
   "metadata": {},
   "outputs": [
    {
     "data": {
      "text/plain": [
       "[[0, 0, 0, 0, 0, 0, 0, 0, 0, 0],\n",
       " [5, 5, 5, 5, 5, 5, 5, 5, 5, 5],\n",
       " [5, 0, 0, 0, 5, 0, 0, 0, 5, 5],\n",
       " [5, 5, 0, 0, 5, 0, 0, 0, 5, 5],\n",
       " [5, 5, 0, 0, 5, 0, 0, 0, 5, 5],\n",
       " [5, 0, 0, 0, 0, 0, 0, 0, 0, 5]]"
      ]
     },
     "execution_count": 108,
     "metadata": {},
     "output_type": "execute_result"
    }
   ],
   "source": [
    "num_rows, num_cols = 6,10\n",
    "viz = [[0 for i in range(num_cols)] for j in range(num_rows)]\n",
    "\n",
    "for i,j in path:\n",
    "    viz[i][j] = 5\n",
    "viz "
   ]
  }
 ],
 "metadata": {
  "kernelspec": {
   "display_name": "Python 3 (ipykernel)",
   "language": "python",
   "name": "python3"
  },
  "language_info": {
   "codemirror_mode": {
    "name": "ipython",
    "version": 3
   },
   "file_extension": ".py",
   "mimetype": "text/x-python",
   "name": "python",
   "nbconvert_exporter": "python",
   "pygments_lexer": "ipython3",
   "version": "3.9.7"
  }
 },
 "nbformat": 4,
 "nbformat_minor": 5
}
